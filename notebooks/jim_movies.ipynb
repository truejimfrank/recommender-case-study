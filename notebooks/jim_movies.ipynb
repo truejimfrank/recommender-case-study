{
 "cells": [
  {
   "cell_type": "code",
   "execution_count": 10,
   "metadata": {},
   "outputs": [],
   "source": [
    "import numpy as np\n",
    "import pandas as pd\n",
    "import matplotlib.pyplot as plt\n",
    "from surprise import SVD, Dataset, accuracy, Reader\n",
    "from surprise.model_selection import cross_validate\n",
    "from surprise.model_selection import train_test_split"
   ]
  },
  {
   "cell_type": "code",
   "execution_count": 2,
   "metadata": {},
   "outputs": [],
   "source": [
    "algo = SVD()\n",
    "reader = Reader(name=None,\n",
    "                line_format='user item rating',\n",
    "                sep=',',\n",
    "                rating_scale=(1,5),\n",
    "                skip_lines=1)\n",
    "datacsv = Dataset.load_from_file('../data/movies/ratings.csv', reader=reader)"
   ]
  },
  {
   "cell_type": "code",
   "execution_count": 3,
   "metadata": {},
   "outputs": [
    {
     "name": "stdout",
     "output_type": "stream",
     "text": [
      "Evaluating RMSE, MAE of algorithm SVD on 5 split(s).\n",
      "\n",
      "                  Fold 1  Fold 2  Fold 3  Fold 4  Fold 5  Mean    Std     \n",
      "RMSE (testset)    0.8947  0.8950  0.8967  0.9017  0.8985  0.8973  0.0026  \n",
      "MAE (testset)     0.6901  0.6887  0.6899  0.6972  0.6891  0.6910  0.0031  \n",
      "Fit time          4.24    4.53    4.46    4.15    3.59    4.19    0.33    \n",
      "Test time         0.14    0.15    0.14    0.12    0.10    0.13    0.02    \n"
     ]
    }
   ],
   "source": [
    "# cv returns a dictionary with many result keys\n",
    "svd_cv = cross_validate(algo, datacsv, measures=['RMSE', 'MAE'], cv=5, \n",
    "                        n_jobs=3, verbose=True)"
   ]
  },
  {
   "cell_type": "code",
   "execution_count": 4,
   "metadata": {},
   "outputs": [
    {
     "data": {
      "text/plain": [
       "{'test_rmse': array([0.89468871, 0.89499052, 0.89667935, 0.90166536, 0.89846161]),\n",
       " 'test_mae': array([0.69014553, 0.68865007, 0.68985108, 0.69718893, 0.68914297]),\n",
       " 'fit_time': (4.2373833656311035,\n",
       "  4.532073020935059,\n",
       "  4.458219766616821,\n",
       "  4.147480487823486,\n",
       "  3.587899923324585),\n",
       " 'test_time': (0.13789987564086914,\n",
       "  0.15208721160888672,\n",
       "  0.14011096954345703,\n",
       "  0.11738181114196777,\n",
       "  0.09567499160766602)}"
      ]
     },
     "execution_count": 4,
     "metadata": {},
     "output_type": "execute_result"
    }
   ],
   "source": [
    "svd_cv"
   ]
  },
  {
   "cell_type": "code",
   "execution_count": 6,
   "metadata": {},
   "outputs": [
    {
     "data": {
      "text/plain": [
       "0.8972971097491087"
      ]
     },
     "execution_count": 6,
     "metadata": {},
     "output_type": "execute_result"
    }
   ],
   "source": [
    "svd_cv['test_rmse'].mean()"
   ]
  },
  {
   "cell_type": "code",
   "execution_count": 8,
   "metadata": {},
   "outputs": [],
   "source": [
    "dfr = pd.read_csv('../data/movies/ratings.csv')"
   ]
  },
  {
   "cell_type": "code",
   "execution_count": 11,
   "metadata": {},
   "outputs": [],
   "source": [
    "trainset, testset = train_test_split(datacsv, test_size=0.20)"
   ]
  },
  {
   "cell_type": "code",
   "execution_count": 12,
   "metadata": {},
   "outputs": [
    {
     "name": "stdout",
     "output_type": "stream",
     "text": [
      "RMSE: 0.8991\n"
     ]
    },
    {
     "data": {
      "text/plain": [
       "0.8990657981363801"
      ]
     },
     "execution_count": 12,
     "metadata": {},
     "output_type": "execute_result"
    }
   ],
   "source": [
    "algo = SVD()\n",
    "# Train the algorithm on the trainset, and predict ratings for the testset\n",
    "algo.fit(trainset)\n",
    "predictions = algo.test(testset)\n",
    "\n",
    "# Then compute RMSE\n",
    "accuracy.rmse(predictions)"
   ]
  },
  {
   "cell_type": "code",
   "execution_count": 36,
   "metadata": {},
   "outputs": [
    {
     "data": {
      "text/plain": [
       "4.5"
      ]
     },
     "execution_count": 36,
     "metadata": {},
     "output_type": "execute_result"
    }
   ],
   "source": [
    "# type(predictions) # is a list\n",
    "# type(predictions[0]) # is a surprise Prediction\n",
    "# len(predictions) # is 20001 long\n",
    "predictions[0][3] # 3rd list index is the rating prediction (float)\n",
    "predictions[0][2] # 2nd list indes is the true rating (float)"
   ]
  },
  {
   "cell_type": "code",
   "execution_count": 38,
   "metadata": {},
   "outputs": [
    {
     "data": {
      "text/plain": [
       "[4.278361610903054,\n",
       " 3.2578036354191173,\n",
       " 4.083501862128913,\n",
       " 3.4515445738119137,\n",
       " 2.294592432448964]"
      ]
     },
     "execution_count": 38,
     "metadata": {},
     "output_type": "execute_result"
    }
   ],
   "source": [
    "listpredict = [row[3] for row in predictions]\n",
    "listrating = [row[2] for row in predictions]\n",
    "listrating[:5]\n",
    "listpredict[:5]"
   ]
  },
  {
   "cell_type": "code",
   "execution_count": 53,
   "metadata": {},
   "outputs": [
    {
     "data": {
      "text/plain": [
       "5.0"
      ]
     },
     "execution_count": 53,
     "metadata": {},
     "output_type": "execute_result"
    }
   ],
   "source": [
    "df_violin = pd.DataFrame(listrating, columns=['rating'])\n",
    "df_violin['prediction'] = pd.Series(listpredict)\n",
    "df_violin.head()\n",
    "np.max(df_violin.prediction.values)"
   ]
  },
  {
   "cell_type": "code",
   "execution_count": 43,
   "metadata": {},
   "outputs": [],
   "source": [
    "# making list of arrays associated with ratings 1-5\n",
    "violindata = [df_violin['prediction'][df_violin['rating'] == rating].values for rating in range(1, 6)]"
   ]
  },
  {
   "cell_type": "code",
   "execution_count": 59,
   "metadata": {},
   "outputs": [],
   "source": [
    "plt.style.use(\"seaborn-whitegrid\")"
   ]
  },
  {
   "cell_type": "code",
   "execution_count": 138,
   "metadata": {},
   "outputs": [
    {
     "data": {
      "image/png": "[encoded data removed]",
      "text/plain": [
       "<Figure size 504x324 with 1 Axes>"
      ]
     },
     "metadata": {},
     "output_type": "display_data"
    }
   ],
   "source": [
    "fig, ax = plt.subplots(figsize=(7,4.5))\n",
    "parts = ax.violinplot(violindata, range(1,6), showmeans=True)\n",
    "# ax.violinplot(violindata, range(1,6), showmeans=True, color='wheat') # color no work\n",
    "plt.xlabel('True Ratings', fontsize=16)\n",
    "plt.ylabel('Predicted Ratings', fontsize=16)\n",
    "plt.ylim(0.9, 5.1)\n",
    "plt.title('True vs. Baseline Recommender Predicted Ratings', fontsize=16)\n",
    "\n",
    "for pc in parts['bodies']:\n",
    "    pc.set_facecolor('wheat')\n",
    "    pc.set_edgecolor('black')\n",
    "    pc.set_alpha(1)\n",
    "fig.tight_layout(pad=1)\n",
    "fig.savefig(\"../img/violin_means.png\", dpi=100)\n",
    "# cmap='cubehelix'"
   ]
  },
  {
   "cell_type": "code",
   "execution_count": 81,
   "metadata": {},
   "outputs": [
    {
     "data": {
      "text/html": [
       "<div>\n",
       "<style scoped>\n",
       "    .dataframe tbody tr th:only-of-type {\n",
       "        vertical-align: middle;\n",
       "    }\n",
       "\n",
       "    .dataframe tbody tr th {\n",
       "        vertical-align: top;\n",
       "    }\n",
       "\n",
       "    .dataframe thead th {\n",
       "        text-align: right;\n",
       "    }\n",
       "</style>\n",
       "<table border=\"1\" class=\"dataframe\">\n",
       "  <thead>\n",
       "    <tr style=\"text-align: right;\">\n",
       "      <th></th>\n",
       "      <th>userId</th>\n",
       "      <th>movieId</th>\n",
       "      <th>rating</th>\n",
       "      <th>timestamp</th>\n",
       "    </tr>\n",
       "  </thead>\n",
       "  <tbody>\n",
       "    <tr>\n",
       "      <th>0</th>\n",
       "      <td>1</td>\n",
       "      <td>31</td>\n",
       "      <td>2.5</td>\n",
       "      <td>1260759144</td>\n",
       "    </tr>\n",
       "    <tr>\n",
       "      <th>1</th>\n",
       "      <td>1</td>\n",
       "      <td>1029</td>\n",
       "      <td>3.0</td>\n",
       "      <td>1260759179</td>\n",
       "    </tr>\n",
       "    <tr>\n",
       "      <th>2</th>\n",
       "      <td>1</td>\n",
       "      <td>1061</td>\n",
       "      <td>3.0</td>\n",
       "      <td>1260759182</td>\n",
       "    </tr>\n",
       "    <tr>\n",
       "      <th>3</th>\n",
       "      <td>1</td>\n",
       "      <td>1129</td>\n",
       "      <td>2.0</td>\n",
       "      <td>1260759185</td>\n",
       "    </tr>\n",
       "    <tr>\n",
       "      <th>4</th>\n",
       "      <td>1</td>\n",
       "      <td>1172</td>\n",
       "      <td>4.0</td>\n",
       "      <td>1260759205</td>\n",
       "    </tr>\n",
       "  </tbody>\n",
       "</table>\n",
       "</div>"
      ],
      "text/plain": [
       "   userId  movieId  rating   timestamp\n",
       "0       1       31     2.5  1260759144\n",
       "1       1     1029     3.0  1260759179\n",
       "2       1     1061     3.0  1260759182\n",
       "3       1     1129     2.0  1260759185\n",
       "4       1     1172     4.0  1260759205"
      ]
     },
     "execution_count": 81,
     "metadata": {},
     "output_type": "execute_result"
    }
   ],
   "source": [
    "dfr.head()\n",
    "# np.min(dfr.movieId.values)"
   ]
  },
  {
   "cell_type": "code",
   "execution_count": 82,
   "metadata": {},
   "outputs": [],
   "source": [
    "dfusercount = dfr.groupby('userId').count().drop(columns=['movieId', 'timestamp'])\n",
    "dfmoviecount = dfr.groupby('movieId').count().drop(columns=['userId', 'timestamp'])"
   ]
  },
  {
   "cell_type": "code",
   "execution_count": 118,
   "metadata": {},
   "outputs": [
    {
     "data": {
      "image/png": "[encoded data removed]",
      "text/plain": [
       "<Figure size 792x360 with 2 Axes>"
      ]
     },
     "metadata": {},
     "output_type": "display_data"
    }
   ],
   "source": [
    "fig, ax = plt.subplots(nrows=1, ncols=2, figsize=(11,5))\n",
    "# fig = plt.figure(figsize=(8,5))\n",
    "# axuser = dfusercount.plot(kind='hist', figsize=(8,5), color='wheat')\n",
    "ax[0].hist(dfusercount['rating'].values, bins=20, log=True, color='wheat')\n",
    "ax[1].hist(dfmoviecount['rating'].values, bins=20, log=True, color='tan')\n",
    "# ax[1].hist(dfmoviecount['rating'].values, bins=20)\n",
    "# ax[0].set_title('Freq. of Ratings per User', fontsize=18)\n",
    "# ax[1].set_title('Freq. of Ratings per Movie', fontsize=18)\n",
    "ax[0].set_xlabel('Ratings per User', fontsize=16)\n",
    "ax[1].set_xlabel('Ratings per Movie', fontsize=16)\n",
    "ax[0].set_ylabel('Ratings Frequency', fontsize=16)\n",
    "# plt.xlabel('No. User Ratings', fontsize=18)\n",
    "# plt.ylabel('User Frequency', fontsize=18)\n",
    "# plt.title('Freq. of Ratings per User & Freq. of Ratings per Movie', fontsize=18)\n",
    "fig.tight_layout(pad=1)\n",
    "fig.savefig(\"../img/counts_hist.png\", dpi=100)"
   ]
  },
  {
   "cell_type": "code",
   "execution_count": 102,
   "metadata": {},
   "outputs": [
    {
     "data": {
      "text/plain": [
       "44"
      ]
     },
     "execution_count": 102,
     "metadata": {},
     "output_type": "execute_result"
    }
   ],
   "source": [
    "dfusercount['rating'].values[5]"
   ]
  },
  {
   "cell_type": "code",
   "execution_count": 126,
   "metadata": {},
   "outputs": [],
   "source": [
    "from baselines import *"
   ]
  },
  {
   "cell_type": "code",
   "execution_count": 127,
   "metadata": {},
   "outputs": [
    {
     "name": "stdout",
     "output_type": "stream",
     "text": [
      "\n",
      "Global Mean...\n",
      "Evaluating RMSE, MAE of algorithm GlobalMean on 5 split(s).\n",
      "\n",
      "                  Fold 1  Fold 2  Fold 3  Fold 4  Fold 5  Mean    Std     \n",
      "RMSE (testset)    1.1231  1.1253  1.1318  1.1217  1.1264  1.1257  0.0035  \n",
      "MAE (testset)     0.9418  0.9437  0.9504  0.9422  0.9454  0.9447  0.0031  \n",
      "Fit time          0.03    0.06    0.06    0.06    0.07    0.06    0.01    \n",
      "Test time         0.06    0.06    0.06    0.06    0.06    0.06    0.00    \n",
      "\n",
      "MeanOfMeans...\n",
      "Evaluating RMSE, MAE of algorithm MeanofMeans on 5 split(s).\n",
      "\n",
      "                  Fold 1  Fold 2  Fold 3  Fold 4  Fold 5  Mean    Std     \n",
      "RMSE (testset)    1.0185  1.0183  1.0194  1.0149  1.0157  1.0174  0.0018  \n",
      "MAE (testset)     0.8383  0.8395  0.8387  0.8352  0.8362  0.8376  0.0016  \n",
      "Fit time          0.21    0.25    0.24    0.24    0.24    0.24    0.01    \n",
      "Test time         0.76    0.24    0.22    0.21    0.23    0.33    0.22    \n"
     ]
    },
    {
     "data": {
      "text/plain": [
       "{'test_rmse': array([1.01851143, 1.01831655, 1.01944027, 1.01486049, 1.01572737]),\n",
       " 'test_mae': array([0.83825827, 0.83946559, 0.83865692, 0.83523869, 0.83623625]),\n",
       " 'fit_time': (0.20867252349853516,\n",
       "  0.2498311996459961,\n",
       "  0.24209308624267578,\n",
       "  0.2430744171142578,\n",
       "  0.24135684967041016),\n",
       " 'test_time': (0.7633869647979736,\n",
       "  0.23732566833496094,\n",
       "  0.21990156173706055,\n",
       "  0.21425414085388184,\n",
       "  0.22614002227783203)}"
      ]
     },
     "execution_count": 127,
     "metadata": {},
     "output_type": "execute_result"
    }
   ],
   "source": [
    "data = Dataset.load_builtin('ml-100k')\n",
    "print(\"\\nGlobal Mean...\")\n",
    "algo = GlobalMean()\n",
    "cross_validate(algo, data, measures=['RMSE', 'MAE'], cv=5, verbose=True)\n",
    "\n",
    "print(\"\\nMeanOfMeans...\")\n",
    "algo = MeanofMeans()\n",
    "cross_validate(algo, data, measures=['RMSE', 'MAE'], cv=5, verbose=True)"
   ]
  },
  {
   "cell_type": "code",
   "execution_count": 128,
   "metadata": {},
   "outputs": [
    {
     "name": "stdout",
     "output_type": "stream",
     "text": [
      "RMSE: 0.9566\n"
     ]
    },
    {
     "data": {
      "text/plain": [
       "0.9565668580602407"
      ]
     },
     "execution_count": 128,
     "metadata": {},
     "output_type": "execute_result"
    }
   ],
   "source": [
    "algo = MeanofMeans()\n",
    "algo.fit(trainset)\n",
    "predictions = algo.test(testset)\n",
    "\n",
    "# Then compute RMSE\n",
    "accuracy.rmse(predictions)"
   ]
  },
  {
   "cell_type": "code",
   "execution_count": 129,
   "metadata": {},
   "outputs": [
    {
     "data": {
      "text/plain": [
       "Prediction(uid='156', iid='4262', r_ui=4.5, est=3.7737818539069736, details={'was_impossible': False})"
      ]
     },
     "execution_count": 129,
     "metadata": {},
     "output_type": "execute_result"
    }
   ],
   "source": [
    "predictions[0]"
   ]
  },
  {
   "cell_type": "code",
   "execution_count": 130,
   "metadata": {},
   "outputs": [
    {
     "data": {
      "text/plain": [
       "[3.7737818539069736,\n",
       " 3.3110212196111584,\n",
       " 3.3953718316613357,\n",
       " 3.5784222752140624,\n",
       " 2.747855681100386]"
      ]
     },
     "execution_count": 130,
     "metadata": {},
     "output_type": "execute_result"
    }
   ],
   "source": [
    "listpredict = [row[3] for row in predictions]\n",
    "listrating = [row[2] for row in predictions]\n",
    "listrating[:5]\n",
    "listpredict[:5]"
   ]
  },
  {
   "cell_type": "code",
   "execution_count": 131,
   "metadata": {},
   "outputs": [],
   "source": [
    "df_violin = pd.DataFrame(listrating, columns=['rating'])\n",
    "df_violin['prediction'] = pd.Series(listpredict)"
   ]
  },
  {
   "cell_type": "code",
   "execution_count": 132,
   "metadata": {},
   "outputs": [],
   "source": [
    "violindata = [df_violin['prediction'][df_violin['rating'] == rating].values for rating in range(1, 6)]"
   ]
  },
  {
   "cell_type": "code",
   "execution_count": null,
   "metadata": {},
   "outputs": [],
   "source": []
  }
 ],
 "metadata": {
  "kernelspec": {
   "display_name": "Python 3",
   "language": "python",
   "name": "python3"
  },
  "language_info": {
   "codemirror_mode": {
    "name": "ipython",
    "version": 3
   },
   "file_extension": ".py",
   "mimetype": "text/x-python",
   "name": "python",
   "nbconvert_exporter": "python",
   "pygments_lexer": "ipython3",
   "version": "3.7.3"
  }
 },
 "nbformat": 4,
 "nbformat_minor": 2
}
