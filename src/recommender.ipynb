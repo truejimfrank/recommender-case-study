{
 "cells": [
  {
   "cell_type": "code",
   "execution_count": 1,
   "metadata": {},
   "outputs": [],
   "source": [
    "import sys\n",
    "import numpy as np\n",
    "import pandas as pd\n",
    "from collections import defaultdict\n",
    "from surprise import Dataset, SVD, accuracy, Reader\n",
    "from surprise.model_selection import train_test_split\n",
    "from surprise.model_selection.validation import cross_validate\n",
    "from baselines import GlobalMean, MeanofMeans"
   ]
  },
  {
   "cell_type": "code",
   "execution_count": 2,
   "metadata": {},
   "outputs": [],
   "source": [
    "reader = Reader(name=None,\n",
    "                line_format='user item rating',\n",
    "                sep=',',\n",
    "                rating_scale=(1,5),\n",
    "                skip_lines=1)"
   ]
  },
  {
   "cell_type": "code",
   "execution_count": 3,
   "metadata": {},
   "outputs": [],
   "source": [
    "data = Dataset.load_from_file('../data/movies/ratings.csv', reader=reader)\n",
    "trainset = data.build_full_trainset()\n",
    "testset = trainset.build_anti_testset()"
   ]
  },
  {
   "cell_type": "code",
   "execution_count": 4,
   "metadata": {},
   "outputs": [],
   "source": [
    "def get_top_n(predictions, n=5):\n",
    "\n",
    "    # First map the predictions to each user.\n",
    "    top_n = defaultdict(list)\n",
    "    for uid, iid, true_r, est, _ in predictions:\n",
    "        top_n[uid].append((iid, est))\n",
    "\n",
    "    # Then sort the predictions for each user and retrieve the k highest ones.\n",
    "    for uid, user_ratings in top_n.items():\n",
    "        user_ratings.sort(key=lambda x: x[1], reverse=True)\n",
    "        top_n[uid] = user_ratings[:n]\n",
    "\n",
    "    return top_n"
   ]
  },
  {
   "cell_type": "code",
   "execution_count": 5,
   "metadata": {},
   "outputs": [],
   "source": [
    "def recs_dict(top_n, name_df):\n",
    "    recs_dict = dict()\n",
    "    for uid, user_ratings in top_n.items():\n",
    "        # print(uid, [name_df.loc[int(iid)]['title'] for (iid, _) in user_ratings])\n",
    "        recs_dict[int(uid)] = [name_df.loc[int(iid)]['title'] for (iid, _) in user_ratings]\n",
    "    return recs_dict"
   ]
  },
  {
   "cell_type": "code",
   "execution_count": 6,
   "metadata": {},
   "outputs": [],
   "source": [
    "name_df = pd.read_csv('../data/movies/movies.csv', header=0, index_col=0)"
   ]
  },
  {
   "cell_type": "code",
   "execution_count": 7,
   "metadata": {},
   "outputs": [],
   "source": [
    "algo = SVD(n_epochs=20, n_factors=50, lr_all=0.01, reg_all=0.02, init_mean=0)\n",
    "algo.fit(trainset)\n",
    "predictions = algo.test(testset)\n",
    "    \n",
    "top_n = get_top_n(predictions, n=10)\n",
    "svd_dict = recs_dict(top_n, name_df)"
   ]
  },
  {
   "cell_type": "code",
   "execution_count": 8,
   "metadata": {},
   "outputs": [],
   "source": [
    "algo = GlobalMean()\n",
    "algo.fit(trainset)\n",
    "predictions = algo.test(testset)\n",
    "    \n",
    "top_n = get_top_n(predictions, n=10)\n",
    "glob_mean_dict = recs_dict(top_n, name_df)"
   ]
  },
  {
   "cell_type": "code",
   "execution_count": 9,
   "metadata": {},
   "outputs": [],
   "source": [
    "algo = MeanofMeans()\n",
    "algo.fit(trainset)\n",
    "predictions = algo.test(testset)\n",
    "    \n",
    "top_n = get_top_n(predictions, n=10)\n",
    "mean_mean_dict = recs_dict(top_n, name_df)"
   ]
  },
  {
   "cell_type": "code",
   "execution_count": null,
   "metadata": {},
   "outputs": [],
   "source": [
    "algo = NMF(n_epochs=50, n_factors=1, biased=True)\n",
    "algo.fit(trainset)\n",
    "predictions = algo.test(testset)\n",
    "    \n",
    "top_n = get_top_n(predictions, n=10)\n",
    "nmf_dict = recs_dict(top_n, name_df)"
   ]
  },
  {
   "cell_type": "code",
   "execution_count": 14,
   "metadata": {},
   "outputs": [],
   "source": [
    "def compare_preds(user_id):\n",
    "    print('Global Means Recs:')\n",
    "    print(glob_mean_dict[user_id])\n",
    "    print('\\n')\n",
    "\n",
    "    print('Means of Means Recs:')\n",
    "    print(mean_mean_dict[user_id])\n",
    "    print('\\n')\n",
    "\n",
    "    print('SVD Recs:')\n",
    "    print(svd_dict[user_id])"
   ]
  },
  {
   "cell_type": "code",
   "execution_count": 15,
   "metadata": {},
   "outputs": [
    {
     "name": "stdout",
     "output_type": "stream",
     "text": [
      "Global Means Recs:\n",
      "['Dangerous Minds (1995)', 'Dumbo (1941)', 'Sleepers (1996)', 'Escape from New York (1981)', 'Cinema Paradiso (Nuovo cinema Paradiso) (1989)', 'Deer Hunter, The (1978)', 'Ben-Hur (1959)', 'Gandhi (1982)', \"Dracula (Bram Stoker's Dracula) (1992)\", 'Cape Fear (1991)']\n",
      "\n",
      "\n",
      "Means of Means Recs:\n",
      "['One Magic Christmas (1985)', 'Step Into Liquid (2002)', 'Art of War, The (2000)', \"Taste of Cherry (Ta'm e guilass) (1997)\", 'King Is Alive, The (2000)', 'Innocence (2000)', 'Maelström (2000)', 'Seconds (1966)', 'Amazing Grace (2006)', 'Unvanquished, The (Aparajito) (1957)']\n",
      "\n",
      "\n",
      "SVD Recs:\n",
      "['On the Waterfront (1954)', 'Godfather, The (1972)', 'Godfather: Part II, The (1974)', 'To Kill a Mockingbird (1962)', 'City of God (Cidade de Deus) (2002)', 'All About Eve (1950)', 'Shawshank Redemption, The (1994)', 'Chinatown (1974)', 'Cinema Paradiso (Nuovo cinema Paradiso) (1989)', 'Prestige, The (2006)']\n"
     ]
    }
   ],
   "source": [
    "compare_preds(100)"
   ]
  },
  {
   "cell_type": "code",
   "execution_count": null,
   "metadata": {},
   "outputs": [],
   "source": []
  }
 ],
 "metadata": {
  "file_extension": ".py",
  "kernelspec": {
   "display_name": "Python 3.7.6 64-bit ('base': conda)",
   "language": "python",
   "name": "python37664bitbasecondae777eab680444837bb85667e680297d8"
  },
  "language_info": {
   "codemirror_mode": {
    "name": "ipython",
    "version": 3
   },
   "file_extension": ".py",
   "mimetype": "text/x-python",
   "name": "python",
   "nbconvert_exporter": "python",
   "pygments_lexer": "ipython3",
   "version": "3.7.6"
  },
  "mimetype": "text/x-python",
  "name": "python",
  "npconvert_exporter": "python",
  "pygments_lexer": "ipython3",
  "version": 3
 },
 "nbformat": 4,
 "nbformat_minor": 4
}
